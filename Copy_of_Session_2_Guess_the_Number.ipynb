{
  "nbformat": 4,
  "nbformat_minor": 0,
  "metadata": {
    "colab": {
      "name": "Copy of Session 2: Guess the Number ",
      "provenance": [],
      "include_colab_link": true
    },
    "kernelspec": {
      "name": "python3",
      "display_name": "Python 3"
    },
    "language_info": {
      "name": "python"
    }
  },
  "cells": [
    {
      "cell_type": "markdown",
      "metadata": {
        "id": "view-in-github",
        "colab_type": "text"
      },
      "source": [
        "<a href=\"https://colab.research.google.com/github/papohk/appdev-week3-graphql/blob/main/Copy_of_Session_2_Guess_the_Number.ipynb\" target=\"_parent\"><img src=\"https://colab.research.google.com/assets/colab-badge.svg\" alt=\"Open In Colab\"/></a>"
      ]
    },
    {
      "cell_type": "markdown",
      "metadata": {
        "id": "-FJERGh7SIJA"
      },
      "source": [
        "Challenge Of The Day\n",
        "<p><i>Concepts tested: Loops, Variables, Random</i>\n",
        "<p>This is a 2-player game.\n",
        "<p>Player 1 will be the computer and \n",
        "would choose a random number from 1-100\n",
        "<p>Player 2 will have to guess what player 1 had chosen\n",
        "<p>Player 2 should guess the number within 10 tries, if not player 1 will win!\n",
        "\n",
        "<p><u>Below is a sample trial:</u>\n",
        "<p><b>Player to guess:</b> 40\n",
        "<p><i>Too small</i>\n",
        "<p><i>Number of tries left: 9</i>\n",
        "<p><b>Player to guess:</b> 60\n",
        "<p><i>Too big</i>\n",
        "<p><i>Number of tries left: 8</i>\n",
        "<p><b>Player to guess:</b> 50\n",
        "<p><i>Player won!</i>"
      ]
    },
    {
      "cell_type": "code",
      "metadata": {
        "id": "C1C9foS_lGcR"
      },
      "source": [
        "import random"
      ],
      "execution_count": 1,
      "outputs": []
    },
    {
      "cell_type": "code",
      "metadata": {
        "id": "97gdiCJzSI3o"
      },
      "source": [
        "p1=random.randint(1,100)"
      ],
      "execution_count": 2,
      "outputs": []
    },
    {
      "cell_type": "code",
      "metadata": {
        "id": "-W0Q7p68mx9p"
      },
      "source": [
        "trials=10"
      ],
      "execution_count": 3,
      "outputs": []
    },
    {
      "cell_type": "code",
      "metadata": {
        "id": "esQdqvDToQIw"
      },
      "source": [
        "end=False"
      ],
      "execution_count": 4,
      "outputs": []
    },
    {
      "cell_type": "code",
      "metadata": {
        "colab": {
          "base_uri": "https://localhost:8080/"
        },
        "id": "mBSTbO3pod5Q",
        "outputId": "8b2803a6-665c-4a98-a24d-da3bd4ba3c89"
      },
      "source": [
        "while trials>0 and end==False:\n",
        "  guess=int(input(\"enter between 1-100\"))\n",
        "  trials=trials-1\n",
        "  if guess<p1:\n",
        "    print(\"Too small\")\n",
        "    print(\"Number of trials left \",trials)\n",
        "  elif guess>p1:\n",
        "    print(\"Too big\")\n",
        "    print(\"Number of trials left \",trials)\n",
        "  else:\n",
        "    print(\"Player won\")\n",
        "    end=True\n",
        "if trials==0 and end==False:\n",
        "  print(\"Player lost\")"
      ],
      "execution_count": 5,
      "outputs": [
        {
          "output_type": "stream",
          "name": "stdout",
          "text": [
            "enter between 1-10056\n",
            "Too big\n",
            "Number of trials left  9\n",
            "enter between 1-10025\n",
            "Too big\n",
            "Number of trials left  8\n",
            "enter between 1-10018\n",
            "Too big\n",
            "Number of trials left  7\n",
            "enter between 1-1009\n",
            "Too big\n",
            "Number of trials left  6\n",
            "enter between 1-1002\n",
            "Player won\n"
          ]
        }
      ]
    },
    {
      "cell_type": "code",
      "metadata": {
        "id": "eO22nh6wokpB"
      },
      "source": [
        ""
      ],
      "execution_count": null,
      "outputs": []
    }
  ]
}